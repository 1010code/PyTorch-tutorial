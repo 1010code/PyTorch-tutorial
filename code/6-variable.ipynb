{
 "cells": [
  {
   "cell_type": "code",
   "execution_count": 58,
   "metadata": {},
   "outputs": [
    {
     "name": "stderr",
     "output_type": "stream",
     "text": [
      "/Users/yilin/opt/anaconda3/lib/python3.7/site-packages/ipykernel_launcher.py:5: UserWarning: To copy construct from a tensor, it is recommended to use sourceTensor.clone().detach() or sourceTensor.clone().detach().requires_grad_(True), rather than torch.tensor(sourceTensor).\n",
      "  \"\"\"\n"
     ]
    }
   ],
   "source": [
    "import torch\n",
    "# 先生鸡蛋\n",
    "tensor = torch.FloatTensor([[1,2],[3,4]])\n",
    "# requires_grad 是参不参與誤差反向傳播, 要不要計算梯度\n",
    "tensor = torch.tensor(tensor, requires_grad=True)\n",
    "\n",
    "t_out = torch.mean(tensor*tensor)    # x^2"
   ]
  },
  {
   "cell_type": "code",
   "execution_count": 62,
   "metadata": {},
   "outputs": [
    {
     "name": "stdout",
     "output_type": "stream",
     "text": [
      "------計算結果-----\n",
      "tensor(7.5000, grad_fn=<MeanBackward0>)\n",
      "------梯度-----\n",
      "tensor([[1., 2.],\n",
      "        [3., 4.]])\n"
     ]
    }
   ],
   "source": [
    "t_out.backward()    # 模擬 v_out 的誤差反向傳播\n",
    "\n",
    "# v_out = 1/4 * sum(variable*variable) 這是計算途中 v_out 計算步驟\n",
    "# 針對於 v_out 的梯度就是, d(v_out)/d(variable) = 1/4*2*variable = variable/2\n",
    "\n",
    "print('------計算結果-----')\n",
    "print(t_out)\n",
    "print('------梯度-----')\n",
    "print(tensor.grad)    # 初始梯度"
   ]
  },
  {
   "cell_type": "code",
   "execution_count": null,
   "metadata": {},
   "outputs": [],
   "source": []
  }
 ],
 "metadata": {
  "kernelspec": {
   "display_name": "Python 3",
   "language": "python",
   "name": "python3"
  },
  "language_info": {
   "codemirror_mode": {
    "name": "ipython",
    "version": 3
   },
   "file_extension": ".py",
   "mimetype": "text/x-python",
   "name": "python",
   "nbconvert_exporter": "python",
   "pygments_lexer": "ipython3",
   "version": "3.7.4"
  }
 },
 "nbformat": 4,
 "nbformat_minor": 4
}
