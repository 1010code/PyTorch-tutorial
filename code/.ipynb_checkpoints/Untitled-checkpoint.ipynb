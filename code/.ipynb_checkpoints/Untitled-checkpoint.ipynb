{
 "cells": [
  {
   "cell_type": "markdown",
   "metadata": {},
   "source": [
    "## Numpy 與 Torch 轉換\n",
    "torch 和 numpy 能很好的兼容，可以自由地轉換 numpy array 和 torch tensor。"
   ]
  },
  {
   "cell_type": "code",
   "execution_count": 21,
   "metadata": {},
   "outputs": [
    {
     "name": "stdout",
     "output_type": "stream",
     "text": [
      "\n",
      "numpy array: [[0 1 2]\n",
      " [3 4 5]] \n",
      "torch tensor: tensor([[0, 1, 2],\n",
      "        [3, 4, 5]]) \n",
      "tensor to array: [[0 1 2]\n",
      " [3 4 5]]\n"
     ]
    }
   ],
   "source": [
    "import torch\n",
    "import numpy as np\n",
    "\n",
    "np_data = np.arange(6).reshape((2, 3)) # numpy array\n",
    "torch_data = torch.from_numpy(np_data) # 轉換成 32bit tensor\n",
    "tensor2array = torch_data.numpy() # tensor to numpy array\n",
    "print(\n",
    "    '\\nnumpy array:', np_data,          # [[0 1 2], [3 4 5]]\n",
    "    '\\ntorch tensor:', torch_data,      #  tensor([[0, 1, 2],[3, 4, 5]]) \n",
    "    '\\ntensor to array:', tensor2array, # [[0 1 2], [3 4 5]]\n",
    ")"
   ]
  },
  {
   "cell_type": "markdown",
   "metadata": {},
   "source": [
    "## Torch 中的數學運算 "
   ]
  },
  {
   "cell_type": "code",
   "execution_count": 25,
   "metadata": {},
   "outputs": [
    {
     "name": "stdout",
     "output_type": "stream",
     "text": [
      "\n",
      "abs \n",
      "numpy:  [1 2 3 4] \n",
      "torch:  tensor([1., 2., 3., 4.])\n",
      "\n",
      "sin \n",
      "numpy:  [-0.84147098 -0.90929743  0.14112001 -0.7568025 ] \n",
      "torch:  tensor([-0.8415, -0.9093,  0.1411, -0.7568])\n",
      "\n",
      "mean \n",
      "numpy:  1.0 \n",
      "torch:  tensor(1.)\n"
     ]
    }
   ],
   "source": [
    "# abs 絕對值計算\n",
    "data = [-1, -2, 3, 4]\n",
    "tensor = torch.FloatTensor(data)  # 轉換成 32bit tensor\n",
    "print(\n",
    "    '\\nabs',\n",
    "    '\\nnumpy: ', np.abs(data),          # [1 2 3 4] \n",
    "    '\\ntorch: ', torch.abs(tensor)      # tensor([1., 2., 3., 4.])\n",
    "\n",
    ")\n",
    "\n",
    "# sin   三角函數 sin\n",
    "print(\n",
    "    '\\nsin',\n",
    "    '\\nnumpy: ', np.sin(data),      # [-0.84147098 -0.90929743  0.14112001 -0.7568025]\n",
    "    '\\ntorch: ', torch.sin(tensor)  # tensor([-0.8415, -0.9093,  0.1411, -0.7568])\n",
    ")\n",
    "\n",
    "# mean  均值\n",
    "print(\n",
    "    '\\nmean',\n",
    "    '\\nnumpy: ', np.mean(data),         # 1.0\n",
    "    '\\ntorch: ', torch.mean(tensor)     # tensor(1.)\n",
    ")"
   ]
  },
  {
   "cell_type": "markdown",
   "metadata": {},
   "source": [
    "## 矩陣運算\n",
    "矩陣運算是神經網絡中最重要的部分，所以我們展示下矩陣的乘法\n",
    "- numpy.matmul() 和torch.mm() 是矩陣乘法（叉乘），\n",
    "- numpy.multiply() 和 torch.mul() 是矩陣點乘（對應元素相乘）"
   ]
  },
  {
   "cell_type": "code",
   "execution_count": 26,
   "metadata": {},
   "outputs": [
    {
     "name": "stdout",
     "output_type": "stream",
     "text": [
      "\n",
      "matrix multiplication (matmul) \n",
      "numpy:  [[ 7 10]\n",
      " [15 22]] \n",
      "torch:  tensor([[ 7., 10.],\n",
      "        [15., 22.]])\n"
     ]
    }
   ],
   "source": [
    "# matrix multiplication 矩陣乘點\n",
    "data = [[1,2], [3,4]]\n",
    "tensor = torch.FloatTensor(data)  # 轉換成 32bit tensor\n",
    "# correct method\n",
    "print(\n",
    "    '\\nmatrix multiplication (matmul)',\n",
    "    '\\nnumpy: ', np.matmul(data, data),     # [[7, 10], [15, 22]]\n",
    "    '\\ntorch: ', torch.mm(tensor, tensor)   # tensor([[ 7., 10.],[15., 22.]])\n",
    ")\n"
   ]
  },
  {
   "cell_type": "code",
   "execution_count": null,
   "metadata": {},
   "outputs": [],
   "source": []
  }
 ],
 "metadata": {
  "kernelspec": {
   "display_name": "Python 3",
   "language": "python",
   "name": "python3"
  },
  "language_info": {
   "codemirror_mode": {
    "name": "ipython",
    "version": 3
   },
   "file_extension": ".py",
   "mimetype": "text/x-python",
   "name": "python",
   "nbconvert_exporter": "python",
   "pygments_lexer": "ipython3",
   "version": "3.7.4"
  }
 },
 "nbformat": 4,
 "nbformat_minor": 4
}
